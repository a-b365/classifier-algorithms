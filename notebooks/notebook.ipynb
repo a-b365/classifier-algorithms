{
 "cells": [
  {
   "cell_type": "code",
   "execution_count": 1,
   "id": "7bcdfc38",
   "metadata": {},
   "outputs": [],
   "source": [
    "# Standard library imports\n",
    "import os\n",
    "\n",
    "# Third party library imports\n",
    "import pandas as pd\n",
    "import numpy as np\n",
    "import matplotlib.pyplot as plt\n"
   ]
  },
  {
   "cell_type": "code",
   "execution_count": 2,
   "id": "6c580961",
   "metadata": {},
   "outputs": [],
   "source": [
    "# Reading the csv file\n",
    "\n",
    "FILE_PATH = \"../datasets/TASK_2/TASK_2/train_set.csv\"\n",
    "train_data = pd.read_csv(FILE_PATH)"
   ]
  },
  {
   "cell_type": "code",
   "execution_count": 3,
   "id": "bd1d29c4",
   "metadata": {},
   "outputs": [
    {
     "data": {
      "text/html": [
       "<div>\n",
       "<style scoped>\n",
       "    .dataframe tbody tr th:only-of-type {\n",
       "        vertical-align: middle;\n",
       "    }\n",
       "\n",
       "    .dataframe tbody tr th {\n",
       "        vertical-align: top;\n",
       "    }\n",
       "\n",
       "    .dataframe thead th {\n",
       "        text-align: right;\n",
       "    }\n",
       "</style>\n",
       "<table border=\"1\" class=\"dataframe\">\n",
       "  <thead>\n",
       "    <tr style=\"text-align: right;\">\n",
       "      <th></th>\n",
       "      <th>CLASS</th>\n",
       "      <th>count</th>\n",
       "    </tr>\n",
       "  </thead>\n",
       "  <tbody>\n",
       "    <tr>\n",
       "      <th>0</th>\n",
       "      <td>0</td>\n",
       "      <td>191</td>\n",
       "    </tr>\n",
       "    <tr>\n",
       "      <th>1</th>\n",
       "      <td>1</td>\n",
       "      <td>124</td>\n",
       "    </tr>\n",
       "  </tbody>\n",
       "</table>\n",
       "</div>"
      ],
      "text/plain": [
       "   CLASS  count\n",
       "0      0    191\n",
       "1      1    124"
      ]
     },
     "execution_count": 3,
     "metadata": {},
     "output_type": "execute_result"
    }
   ],
   "source": [
    "train_data['CLASS'].value_counts().reset_index()"
   ]
  },
  {
   "cell_type": "code",
   "execution_count": 5,
   "id": "9cbd4e6b",
   "metadata": {},
   "outputs": [
    {
     "data": {
      "text/plain": [
       "np.int64(0)"
      ]
     },
     "execution_count": 5,
     "metadata": {},
     "output_type": "execute_result"
    }
   ],
   "source": [
    "y.isna().sum()"
   ]
  },
  {
   "cell_type": "code",
   "execution_count": 6,
   "id": "5a88b2ac",
   "metadata": {},
   "outputs": [],
   "source": [
    "X = train_data.drop(columns=[\"ID\", \"CLASS\"])\n",
    "y = train_data[\"CLASS\"]"
   ]
  },
  {
   "cell_type": "code",
   "execution_count": 7,
   "id": "b3b2e939",
   "metadata": {},
   "outputs": [
    {
     "data": {
      "text/plain": [
       "0     199\n",
       "23    116\n",
       "Name: count, dtype: int64"
      ]
     },
     "execution_count": 7,
     "metadata": {},
     "output_type": "execute_result"
    }
   ],
   "source": [
    "missing_per_row = X.isnull().sum(axis=1)\n",
    "missing_per_row.value_counts()\n"
   ]
  },
  {
   "cell_type": "code",
   "execution_count": 8,
   "id": "5756da1f",
   "metadata": {},
   "outputs": [
    {
     "data": {
      "text/plain": [
       "np.int64(4)"
      ]
     },
     "execution_count": 8,
     "metadata": {},
     "output_type": "execute_result"
    }
   ],
   "source": [
    "import numpy as np\n",
    "\n",
    "# Count infinities\n",
    "np.isinf(X.to_numpy()).sum()\n"
   ]
  },
  {
   "cell_type": "code",
   "execution_count": 9,
   "id": "d35fbcdb",
   "metadata": {},
   "outputs": [
    {
     "data": {
      "text/plain": [
       "Feature_72    2\n",
       "Feature_90    2\n",
       "dtype: int64"
      ]
     },
     "execution_count": 9,
     "metadata": {},
     "output_type": "execute_result"
    }
   ],
   "source": [
    "inf_mask = np.isinf(X)\n",
    "inf_summary = inf_mask.sum(axis=0)\n",
    "inf_summary[inf_summary > 0]"
   ]
  },
  {
   "cell_type": "code",
   "execution_count": 10,
   "id": "e015a9a8",
   "metadata": {},
   "outputs": [],
   "source": [
    "X_clean = X.replace([np.inf, -np.inf], np.nan)"
   ]
  },
  {
   "cell_type": "code",
   "execution_count": 12,
   "id": "1b9b704a",
   "metadata": {},
   "outputs": [
    {
     "data": {
      "text/html": [
       "<div>\n",
       "<style scoped>\n",
       "    .dataframe tbody tr th:only-of-type {\n",
       "        vertical-align: middle;\n",
       "    }\n",
       "\n",
       "    .dataframe tbody tr th {\n",
       "        vertical-align: top;\n",
       "    }\n",
       "\n",
       "    .dataframe thead th {\n",
       "        text-align: right;\n",
       "    }\n",
       "</style>\n",
       "<table border=\"1\" class=\"dataframe\">\n",
       "  <thead>\n",
       "    <tr style=\"text-align: right;\">\n",
       "      <th></th>\n",
       "      <th>50</th>\n",
       "      <th>count</th>\n",
       "    </tr>\n",
       "  </thead>\n",
       "  <tbody>\n",
       "    <tr>\n",
       "      <th>0</th>\n",
       "      <td>False</td>\n",
       "      <td>3215</td>\n",
       "    </tr>\n",
       "    <tr>\n",
       "      <th>1</th>\n",
       "      <td>True</td>\n",
       "      <td>23</td>\n",
       "    </tr>\n",
       "  </tbody>\n",
       "</table>\n",
       "</div>"
      ],
      "text/plain": [
       "      50  count\n",
       "0  False   3215\n",
       "1   True     23"
      ]
     },
     "execution_count": 12,
     "metadata": {},
     "output_type": "execute_result"
    }
   ],
   "source": [
    "X.iloc[50].isnull().value_counts().reset_index()"
   ]
  },
  {
   "cell_type": "code",
   "execution_count": 13,
   "id": "70cb93ac",
   "metadata": {},
   "outputs": [],
   "source": [
    "from sklearn.impute import SimpleImputer\n",
    "\n",
    "imputer = SimpleImputer(missing_values=np.nan, strategy=\"mean\")\n",
    "X_imputed = imputer.fit_transform(X_clean)"
   ]
  },
  {
   "cell_type": "code",
   "execution_count": 15,
   "id": "5fbf43d7",
   "metadata": {},
   "outputs": [],
   "source": [
    "from sklearn.preprocessing import StandardScaler\n",
    "\n",
    "scalar = StandardScaler()\n",
    "X_scaled = scalar.fit_transform(X_imputed)"
   ]
  },
  {
   "cell_type": "code",
   "execution_count": 16,
   "id": "fca4f89b",
   "metadata": {},
   "outputs": [
    {
     "data": {
      "text/plain": [
       "(array([3.64016118e+04, 3.65589788e+04, 1.34217979e+04, ...,\n",
       "        2.85106703e+01, 3.79238104e+00, 1.12015343e-01], shape=(3238,)),\n",
       " array([5.73178001e+08, 5.74492580e+08, 2.72592504e+07, ...,\n",
       "        2.91915412e+00, 6.61509292e-02, 1.89172126e-03], shape=(3238,)))"
      ]
     },
     "execution_count": 16,
     "metadata": {},
     "output_type": "execute_result"
    }
   ],
   "source": [
    "scalar.mean_, scalar.var_"
   ]
  },
  {
   "cell_type": "code",
   "execution_count": 17,
   "id": "73ae3c7c",
   "metadata": {},
   "outputs": [
    {
     "data": {
      "text/html": [
       "<div>\n",
       "<style scoped>\n",
       "    .dataframe tbody tr th:only-of-type {\n",
       "        vertical-align: middle;\n",
       "    }\n",
       "\n",
       "    .dataframe tbody tr th {\n",
       "        vertical-align: top;\n",
       "    }\n",
       "\n",
       "    .dataframe thead th {\n",
       "        text-align: right;\n",
       "    }\n",
       "</style>\n",
       "<table border=\"1\" class=\"dataframe\">\n",
       "  <thead>\n",
       "    <tr style=\"text-align: right;\">\n",
       "      <th></th>\n",
       "      <th>Feature_1</th>\n",
       "      <th>Feature_2</th>\n",
       "      <th>Feature_3</th>\n",
       "      <th>Feature_4</th>\n",
       "      <th>Feature_5</th>\n",
       "      <th>Feature_6</th>\n",
       "      <th>Feature_7</th>\n",
       "      <th>Feature_8</th>\n",
       "      <th>Feature_9</th>\n",
       "      <th>Feature_10</th>\n",
       "      <th>...</th>\n",
       "      <th>Feature_3229</th>\n",
       "      <th>Feature_3230</th>\n",
       "      <th>Feature_3231</th>\n",
       "      <th>Feature_3232</th>\n",
       "      <th>Feature_3233</th>\n",
       "      <th>Feature_3234</th>\n",
       "      <th>Feature_3235</th>\n",
       "      <th>Feature_3236</th>\n",
       "      <th>Feature_3237</th>\n",
       "      <th>Feature_3238</th>\n",
       "    </tr>\n",
       "  </thead>\n",
       "  <tbody>\n",
       "    <tr>\n",
       "      <th>0</th>\n",
       "      <td>-0.756859</td>\n",
       "      <td>-0.756281</td>\n",
       "      <td>-0.768458</td>\n",
       "      <td>1.790937</td>\n",
       "      <td>-0.703377</td>\n",
       "      <td>-0.622357</td>\n",
       "      <td>0.757830</td>\n",
       "      <td>-0.722168</td>\n",
       "      <td>0.757830</td>\n",
       "      <td>0.038485</td>\n",
       "      <td>...</td>\n",
       "      <td>-1.903318</td>\n",
       "      <td>-1.903318</td>\n",
       "      <td>-0.795461</td>\n",
       "      <td>0.0</td>\n",
       "      <td>-0.386250</td>\n",
       "      <td>-1.156615</td>\n",
       "      <td>0.0</td>\n",
       "      <td>-0.208265</td>\n",
       "      <td>1.487482</td>\n",
       "      <td>-1.156615</td>\n",
       "    </tr>\n",
       "    <tr>\n",
       "      <th>1</th>\n",
       "      <td>-0.684660</td>\n",
       "      <td>-0.686690</td>\n",
       "      <td>-0.980408</td>\n",
       "      <td>0.279318</td>\n",
       "      <td>0.567037</td>\n",
       "      <td>0.393269</td>\n",
       "      <td>-0.768013</td>\n",
       "      <td>0.617284</td>\n",
       "      <td>-0.768013</td>\n",
       "      <td>-0.059407</td>\n",
       "      <td>...</td>\n",
       "      <td>-0.133632</td>\n",
       "      <td>-0.133632</td>\n",
       "      <td>-0.683039</td>\n",
       "      <td>0.0</td>\n",
       "      <td>-0.309647</td>\n",
       "      <td>-0.493571</td>\n",
       "      <td>0.0</td>\n",
       "      <td>-0.337385</td>\n",
       "      <td>0.542650</td>\n",
       "      <td>-0.493571</td>\n",
       "    </tr>\n",
       "    <tr>\n",
       "      <th>2</th>\n",
       "      <td>-0.381832</td>\n",
       "      <td>-0.380581</td>\n",
       "      <td>-0.235997</td>\n",
       "      <td>0.738313</td>\n",
       "      <td>-0.658969</td>\n",
       "      <td>-0.592319</td>\n",
       "      <td>0.689108</td>\n",
       "      <td>-0.672790</td>\n",
       "      <td>0.689108</td>\n",
       "      <td>-0.062952</td>\n",
       "      <td>...</td>\n",
       "      <td>-0.972867</td>\n",
       "      <td>-0.972867</td>\n",
       "      <td>-0.396858</td>\n",
       "      <td>0.0</td>\n",
       "      <td>-0.308825</td>\n",
       "      <td>-0.995803</td>\n",
       "      <td>0.0</td>\n",
       "      <td>-0.354606</td>\n",
       "      <td>1.137855</td>\n",
       "      <td>-0.995803</td>\n",
       "    </tr>\n",
       "    <tr>\n",
       "      <th>3</th>\n",
       "      <td>0.231255</td>\n",
       "      <td>0.232764</td>\n",
       "      <td>0.851293</td>\n",
       "      <td>0.408853</td>\n",
       "      <td>-1.186714</td>\n",
       "      <td>-0.927422</td>\n",
       "      <td>1.599928</td>\n",
       "      <td>-1.272312</td>\n",
       "      <td>1.599928</td>\n",
       "      <td>-0.063502</td>\n",
       "      <td>...</td>\n",
       "      <td>-0.486524</td>\n",
       "      <td>-0.486524</td>\n",
       "      <td>0.283390</td>\n",
       "      <td>0.0</td>\n",
       "      <td>-0.154057</td>\n",
       "      <td>-0.763600</td>\n",
       "      <td>0.0</td>\n",
       "      <td>-0.374634</td>\n",
       "      <td>0.852824</td>\n",
       "      <td>-0.763600</td>\n",
       "    </tr>\n",
       "    <tr>\n",
       "      <th>4</th>\n",
       "      <td>0.203521</td>\n",
       "      <td>0.203601</td>\n",
       "      <td>0.171085</td>\n",
       "      <td>-0.825213</td>\n",
       "      <td>0.093786</td>\n",
       "      <td>-0.031715</td>\n",
       "      <td>-0.308667</td>\n",
       "      <td>0.138226</td>\n",
       "      <td>-0.308667</td>\n",
       "      <td>-0.058745</td>\n",
       "      <td>...</td>\n",
       "      <td>0.680798</td>\n",
       "      <td>0.680798</td>\n",
       "      <td>0.173152</td>\n",
       "      <td>0.0</td>\n",
       "      <td>0.084921</td>\n",
       "      <td>0.703383</td>\n",
       "      <td>0.0</td>\n",
       "      <td>0.196797</td>\n",
       "      <td>-0.859371</td>\n",
       "      <td>0.703383</td>\n",
       "    </tr>\n",
       "    <tr>\n",
       "      <th>...</th>\n",
       "      <td>...</td>\n",
       "      <td>...</td>\n",
       "      <td>...</td>\n",
       "      <td>...</td>\n",
       "      <td>...</td>\n",
       "      <td>...</td>\n",
       "      <td>...</td>\n",
       "      <td>...</td>\n",
       "      <td>...</td>\n",
       "      <td>...</td>\n",
       "      <td>...</td>\n",
       "      <td>...</td>\n",
       "      <td>...</td>\n",
       "      <td>...</td>\n",
       "      <td>...</td>\n",
       "      <td>...</td>\n",
       "      <td>...</td>\n",
       "      <td>...</td>\n",
       "      <td>...</td>\n",
       "      <td>...</td>\n",
       "      <td>...</td>\n",
       "    </tr>\n",
       "    <tr>\n",
       "      <th>310</th>\n",
       "      <td>0.433827</td>\n",
       "      <td>0.435696</td>\n",
       "      <td>0.886849</td>\n",
       "      <td>-0.217469</td>\n",
       "      <td>-0.847973</td>\n",
       "      <td>-0.717820</td>\n",
       "      <td>0.990873</td>\n",
       "      <td>-0.884254</td>\n",
       "      <td>0.990873</td>\n",
       "      <td>-0.060837</td>\n",
       "      <td>...</td>\n",
       "      <td>0.202267</td>\n",
       "      <td>0.202267</td>\n",
       "      <td>0.498488</td>\n",
       "      <td>0.0</td>\n",
       "      <td>-0.027807</td>\n",
       "      <td>-0.355315</td>\n",
       "      <td>0.0</td>\n",
       "      <td>0.162030</td>\n",
       "      <td>0.397758</td>\n",
       "      <td>-0.355315</td>\n",
       "    </tr>\n",
       "    <tr>\n",
       "      <th>311</th>\n",
       "      <td>-1.168752</td>\n",
       "      <td>-1.170949</td>\n",
       "      <td>-1.748648</td>\n",
       "      <td>1.717631</td>\n",
       "      <td>1.244825</td>\n",
       "      <td>1.018591</td>\n",
       "      <td>-1.401877</td>\n",
       "      <td>1.297774</td>\n",
       "      <td>-1.401877</td>\n",
       "      <td>-0.060507</td>\n",
       "      <td>...</td>\n",
       "      <td>-1.901386</td>\n",
       "      <td>-1.901386</td>\n",
       "      <td>-1.207844</td>\n",
       "      <td>0.0</td>\n",
       "      <td>-0.440121</td>\n",
       "      <td>-0.957524</td>\n",
       "      <td>0.0</td>\n",
       "      <td>0.652483</td>\n",
       "      <td>1.190021</td>\n",
       "      <td>-0.957524</td>\n",
       "    </tr>\n",
       "    <tr>\n",
       "      <th>312</th>\n",
       "      <td>0.035969</td>\n",
       "      <td>0.035381</td>\n",
       "      <td>0.101320</td>\n",
       "      <td>-0.395710</td>\n",
       "      <td>-0.196988</td>\n",
       "      <td>-0.259780</td>\n",
       "      <td>0.043164</td>\n",
       "      <td>-0.169541</td>\n",
       "      <td>0.043164</td>\n",
       "      <td>-0.058273</td>\n",
       "      <td>...</td>\n",
       "      <td>0.271247</td>\n",
       "      <td>0.271247</td>\n",
       "      <td>0.120722</td>\n",
       "      <td>0.0</td>\n",
       "      <td>-0.091668</td>\n",
       "      <td>-0.222419</td>\n",
       "      <td>0.0</td>\n",
       "      <td>-0.963045</td>\n",
       "      <td>0.088390</td>\n",
       "      <td>-0.222419</td>\n",
       "    </tr>\n",
       "    <tr>\n",
       "      <th>313</th>\n",
       "      <td>-0.472817</td>\n",
       "      <td>-0.471784</td>\n",
       "      <td>-0.331835</td>\n",
       "      <td>1.032608</td>\n",
       "      <td>-0.739118</td>\n",
       "      <td>-0.646287</td>\n",
       "      <td>0.814087</td>\n",
       "      <td>-0.762044</td>\n",
       "      <td>0.814087</td>\n",
       "      <td>-0.061786</td>\n",
       "      <td>...</td>\n",
       "      <td>-1.381913</td>\n",
       "      <td>-1.381913</td>\n",
       "      <td>-0.550115</td>\n",
       "      <td>0.0</td>\n",
       "      <td>-0.323534</td>\n",
       "      <td>-0.894995</td>\n",
       "      <td>0.0</td>\n",
       "      <td>0.392094</td>\n",
       "      <td>1.023034</td>\n",
       "      <td>-0.894995</td>\n",
       "    </tr>\n",
       "    <tr>\n",
       "      <th>314</th>\n",
       "      <td>0.690171</td>\n",
       "      <td>0.691657</td>\n",
       "      <td>1.219785</td>\n",
       "      <td>-0.402856</td>\n",
       "      <td>-0.902918</td>\n",
       "      <td>-0.753154</td>\n",
       "      <td>1.083367</td>\n",
       "      <td>-0.946384</td>\n",
       "      <td>1.083367</td>\n",
       "      <td>-0.058583</td>\n",
       "      <td>...</td>\n",
       "      <td>0.538947</td>\n",
       "      <td>0.538947</td>\n",
       "      <td>0.687035</td>\n",
       "      <td>0.0</td>\n",
       "      <td>0.134792</td>\n",
       "      <td>0.163421</td>\n",
       "      <td>0.0</td>\n",
       "      <td>0.689963</td>\n",
       "      <td>-0.104044</td>\n",
       "      <td>0.163421</td>\n",
       "    </tr>\n",
       "  </tbody>\n",
       "</table>\n",
       "<p>315 rows × 3238 columns</p>\n",
       "</div>"
      ],
      "text/plain": [
       "     Feature_1  Feature_2  Feature_3  Feature_4  Feature_5  Feature_6  \\\n",
       "0    -0.756859  -0.756281  -0.768458   1.790937  -0.703377  -0.622357   \n",
       "1    -0.684660  -0.686690  -0.980408   0.279318   0.567037   0.393269   \n",
       "2    -0.381832  -0.380581  -0.235997   0.738313  -0.658969  -0.592319   \n",
       "3     0.231255   0.232764   0.851293   0.408853  -1.186714  -0.927422   \n",
       "4     0.203521   0.203601   0.171085  -0.825213   0.093786  -0.031715   \n",
       "..         ...        ...        ...        ...        ...        ...   \n",
       "310   0.433827   0.435696   0.886849  -0.217469  -0.847973  -0.717820   \n",
       "311  -1.168752  -1.170949  -1.748648   1.717631   1.244825   1.018591   \n",
       "312   0.035969   0.035381   0.101320  -0.395710  -0.196988  -0.259780   \n",
       "313  -0.472817  -0.471784  -0.331835   1.032608  -0.739118  -0.646287   \n",
       "314   0.690171   0.691657   1.219785  -0.402856  -0.902918  -0.753154   \n",
       "\n",
       "     Feature_7  Feature_8  Feature_9  Feature_10  ...  Feature_3229  \\\n",
       "0     0.757830  -0.722168   0.757830    0.038485  ...     -1.903318   \n",
       "1    -0.768013   0.617284  -0.768013   -0.059407  ...     -0.133632   \n",
       "2     0.689108  -0.672790   0.689108   -0.062952  ...     -0.972867   \n",
       "3     1.599928  -1.272312   1.599928   -0.063502  ...     -0.486524   \n",
       "4    -0.308667   0.138226  -0.308667   -0.058745  ...      0.680798   \n",
       "..         ...        ...        ...         ...  ...           ...   \n",
       "310   0.990873  -0.884254   0.990873   -0.060837  ...      0.202267   \n",
       "311  -1.401877   1.297774  -1.401877   -0.060507  ...     -1.901386   \n",
       "312   0.043164  -0.169541   0.043164   -0.058273  ...      0.271247   \n",
       "313   0.814087  -0.762044   0.814087   -0.061786  ...     -1.381913   \n",
       "314   1.083367  -0.946384   1.083367   -0.058583  ...      0.538947   \n",
       "\n",
       "     Feature_3230  Feature_3231  Feature_3232  Feature_3233  Feature_3234  \\\n",
       "0       -1.903318     -0.795461           0.0     -0.386250     -1.156615   \n",
       "1       -0.133632     -0.683039           0.0     -0.309647     -0.493571   \n",
       "2       -0.972867     -0.396858           0.0     -0.308825     -0.995803   \n",
       "3       -0.486524      0.283390           0.0     -0.154057     -0.763600   \n",
       "4        0.680798      0.173152           0.0      0.084921      0.703383   \n",
       "..            ...           ...           ...           ...           ...   \n",
       "310      0.202267      0.498488           0.0     -0.027807     -0.355315   \n",
       "311     -1.901386     -1.207844           0.0     -0.440121     -0.957524   \n",
       "312      0.271247      0.120722           0.0     -0.091668     -0.222419   \n",
       "313     -1.381913     -0.550115           0.0     -0.323534     -0.894995   \n",
       "314      0.538947      0.687035           0.0      0.134792      0.163421   \n",
       "\n",
       "     Feature_3235  Feature_3236  Feature_3237  Feature_3238  \n",
       "0             0.0     -0.208265      1.487482     -1.156615  \n",
       "1             0.0     -0.337385      0.542650     -0.493571  \n",
       "2             0.0     -0.354606      1.137855     -0.995803  \n",
       "3             0.0     -0.374634      0.852824     -0.763600  \n",
       "4             0.0      0.196797     -0.859371      0.703383  \n",
       "..            ...           ...           ...           ...  \n",
       "310           0.0      0.162030      0.397758     -0.355315  \n",
       "311           0.0      0.652483      1.190021     -0.957524  \n",
       "312           0.0     -0.963045      0.088390     -0.222419  \n",
       "313           0.0      0.392094      1.023034     -0.894995  \n",
       "314           0.0      0.689963     -0.104044      0.163421  \n",
       "\n",
       "[315 rows x 3238 columns]"
      ]
     },
     "execution_count": 17,
     "metadata": {},
     "output_type": "execute_result"
    }
   ],
   "source": [
    "X_scaled_df = pd.DataFrame(X_scaled, columns=X.columns)\n",
    "X_scaled_df"
   ]
  },
  {
   "cell_type": "code",
   "execution_count": 73,
   "id": "b2d2ec4e",
   "metadata": {},
   "outputs": [],
   "source": [
    "feature_columns = X.columns"
   ]
  },
  {
   "cell_type": "code",
   "execution_count": 81,
   "id": "64c67772",
   "metadata": {},
   "outputs": [
    {
     "name": "stdout",
     "output_type": "stream",
     "text": [
      "Reduced from 3238 to 3123 features\n"
     ]
    }
   ],
   "source": [
    "from sklearn.feature_selection import VarianceThreshold\n",
    "\n",
    "selector = VarianceThreshold(threshold=1e-5)\n",
    "X_var = selector.fit_transform(X_scaled_df)\n",
    "\n",
    "print(f\"Reduced from {X_scaled_df.shape[1]} to {X_var.shape[1]} features\")\n",
    "\n",
    "selected_mask = selector.get_support()\n",
    "\n",
    "selected_features = [feature_columns[i] for i in range(len(selected_mask)) if selected_mask[i]]"
   ]
  },
  {
   "cell_type": "code",
   "execution_count": 129,
   "id": "8fd6a5fa",
   "metadata": {},
   "outputs": [],
   "source": [
    "from sklearn.feature_selection import SelectKBest, f_classif\n",
    "\n",
    "selector = SelectKBest(score_func=f_classif, k=10)  # Try k=100 to start\n",
    "\n",
    "X_kbest = selector.fit_transform(X_var, y)\n",
    "\n",
    "# You can also get the selected column names if needed\n",
    "selected_mask = selector.get_support()\n",
    "\n",
    "selected_k_features = [selected_features[i] for i in range(len(selected_mask)) if selected_mask[i]]"
   ]
  },
  {
   "cell_type": "code",
   "execution_count": 130,
   "id": "32570687",
   "metadata": {},
   "outputs": [],
   "source": [
    "X_kbest_df = pd.DataFrame(X_kbest, columns=selected_k_features)"
   ]
  },
  {
   "cell_type": "code",
   "execution_count": 21,
   "id": "9a45aeba",
   "metadata": {},
   "outputs": [
    {
     "name": "stdout",
     "output_type": "stream",
     "text": [
      "Dropped 2402 correlated features. Remaining: 721\n"
     ]
    }
   ],
   "source": [
    "# Convert back to DataFrame for inspection\n",
    "X_var_df = pd.DataFrame(X_var)\n",
    "\n",
    "# Correlation matrix\n",
    "corr_matrix = X_var_df.corr().abs()\n",
    "\n",
    "# Upper triangle of correlation matrix\n",
    "upper = corr_matrix.where(np.triu(np.ones(corr_matrix.shape), k=1).astype(bool))\n",
    "\n",
    "# Find columns with correlation > 0.95\n",
    "to_drop = [column for column in upper.columns if any(upper[column] > 0.95)]\n",
    "\n",
    "# Drop them\n",
    "X_uncorrelated = X_var_df.drop(columns=to_drop)\n",
    "\n",
    "print(f\"Dropped {len(to_drop)} correlated features. Remaining: {X_uncorrelated.shape[1]}\")\n"
   ]
  },
  {
   "cell_type": "code",
   "execution_count": 45,
   "id": "bf41d014",
   "metadata": {},
   "outputs": [],
   "source": [
    "from sklearn.ensemble import RandomForestClassifier\n",
    "\n",
    "rf = RandomForestClassifier(n_estimators=100, random_state=42)\n",
    "rf.fit(X_uncorrelated, y)  # y = your target column (CLASS)\n",
    "\n",
    "importances = rf.feature_importances_\n",
    "indices = np.argsort(importances)[::-1][:100]  # Keep top 100\n",
    "\n",
    "X_selected = X_uncorrelated.iloc[:, indices]"
   ]
  },
  {
   "cell_type": "code",
   "execution_count": null,
   "id": "48ee6124",
   "metadata": {},
   "outputs": [],
   "source": [
    "from sklearn.model_selection import StratifiedKFold\n",
    "\n",
    "cv = StratifiedKFold(n_splits=5, shuffle=True, random_state=42)\n"
   ]
  },
  {
   "cell_type": "code",
   "execution_count": 131,
   "id": "7b25a66e",
   "metadata": {},
   "outputs": [],
   "source": [
    "from sklearn.model_selection import train_test_split\n",
    "\n",
    "X_train, X_val, y_train, y_val = train_test_split(X_kbest_df, y, test_size=0.2, random_state=42, stratify=y)"
   ]
  },
  {
   "cell_type": "code",
   "execution_count": null,
   "id": "4b254fb9",
   "metadata": {},
   "outputs": [],
   "source": [
    "from sklearn.linear_model import LogisticRegression\n",
    "from sklearn.metrics import classification_report, confusion_matrix\n",
    "from sklearn.metrics import accuracy_score\n",
    "\n",
    "# Instantiate logistic regression model\n",
    "clf_lr = LogisticRegression(max_iter=1000, class_weight=\"balanced\", random_state=42, C=1)\n",
    "\n",
    "# Fit the model\n",
    "clf_lr.fit(X_train, y_train)\n",
    "\n",
    "# Predict on validation set\n",
    "y_pred = clf_lr.predict(X_val)\n",
    "\n",
    "accuracy_logistic_regression = accuracy_score(y_val, y_pred)"
   ]
  },
  {
   "cell_type": "code",
   "execution_count": null,
   "id": "5403d599",
   "metadata": {},
   "outputs": [
    {
     "name": "stdout",
     "output_type": "stream",
     "text": [
      "[[27 11]\n",
      " [15 10]]\n",
      "              precision    recall  f1-score   support\n",
      "\n",
      "           0       0.64      0.71      0.68        38\n",
      "           1       0.48      0.40      0.43        25\n",
      "\n",
      "    accuracy                           0.59        63\n",
      "   macro avg       0.56      0.56      0.55        63\n",
      "weighted avg       0.58      0.59      0.58        63\n",
      "\n"
     ]
    }
   ],
   "source": [
    "print(confusion_matrix(y_val, y_pred))\n",
    "print(classification_report(y_val, y_pred))\n",
    "print(accuracy_logistic_regression)"
   ]
  },
  {
   "cell_type": "code",
   "execution_count": 132,
   "id": "1523c875",
   "metadata": {},
   "outputs": [
    {
     "name": "stdout",
     "output_type": "stream",
     "text": [
      "Best C: {'C': 1}\n"
     ]
    }
   ],
   "source": [
    "from sklearn.model_selection import GridSearchCV\n",
    "\n",
    "param_grid = {'C': [0.01, 0.1, 1, 10, 100]}\n",
    "clf = LogisticRegression(max_iter=10000, random_state=42)\n",
    "\n",
    "grid_search = GridSearchCV(clf, param_grid, cv=5, scoring='f1_macro')\n",
    "grid_search.fit(X_train, y_train)\n",
    "\n",
    "print(\"Best C:\", grid_search.best_params_)"
   ]
  },
  {
   "cell_type": "code",
   "execution_count": 100,
   "id": "5e53433b",
   "metadata": {},
   "outputs": [
    {
     "name": "stdout",
     "output_type": "stream",
     "text": [
      "[[28 10]\n",
      " [17  8]]\n",
      "              precision    recall  f1-score   support\n",
      "\n",
      "           0       0.62      0.74      0.67        38\n",
      "           1       0.44      0.32      0.37        25\n",
      "\n",
      "    accuracy                           0.57        63\n",
      "   macro avg       0.53      0.53      0.52        63\n",
      "weighted avg       0.55      0.57      0.55        63\n",
      "\n"
     ]
    }
   ],
   "source": [
    "from sklearn.ensemble import RandomForestClassifier\n",
    "\n",
    "clf_rf = RandomForestClassifier(n_estimators=1000, class_weight='balanced', random_state=42)\n",
    "clf_rf.fit(X_train, y_train)\n",
    "\n",
    "y_pred_rf = clf_rf.predict(X_val)\n",
    "print(confusion_matrix(y_val, y_pred_rf))\n",
    "print(classification_report(y_val, y_pred_rf))\n"
   ]
  },
  {
   "cell_type": "code",
   "execution_count": 37,
   "id": "086186a3",
   "metadata": {},
   "outputs": [
    {
     "name": "stderr",
     "output_type": "stream",
     "text": [
      "d:\\classifier-algorithms\\.venv\\Lib\\site-packages\\xgboost\\training.py:183: UserWarning: [15:39:27] WARNING: C:\\actions-runner\\_work\\xgboost\\xgboost\\src\\learner.cc:738: \n",
      "Parameters: { \"use_label_encoder\" } are not used.\n",
      "\n",
      "  bst.update(dtrain, iteration=i, fobj=obj)\n"
     ]
    },
    {
     "name": "stdout",
     "output_type": "stream",
     "text": [
      "[[25 13]\n",
      " [18  7]]\n",
      "              precision    recall  f1-score   support\n",
      "\n",
      "           0       0.58      0.66      0.62        38\n",
      "           1       0.35      0.28      0.31        25\n",
      "\n",
      "    accuracy                           0.51        63\n",
      "   macro avg       0.47      0.47      0.46        63\n",
      "weighted avg       0.49      0.51      0.50        63\n",
      "\n"
     ]
    }
   ],
   "source": [
    "from xgboost import XGBClassifier\n",
    "\n",
    "xgb_clf = XGBClassifier(n_estimators=100, scale_pos_weight=1.5, use_label_encoder=False, eval_metric='logloss', random_state=42)\n",
    "xgb_clf.fit(X_train_scaled, y_train)\n",
    "y_pred_xgb = xgb_clf.predict(X_val_scaled)\n",
    "\n",
    "print(confusion_matrix(y_val, y_pred_xgb))\n",
    "print(classification_report(y_val, y_pred_xgb))\n"
   ]
  },
  {
   "cell_type": "code",
   "execution_count": null,
   "id": "9bb9c72a",
   "metadata": {},
   "outputs": [],
   "source": []
  }
 ],
 "metadata": {
  "kernelspec": {
   "display_name": ".venv",
   "language": "python",
   "name": "python3"
  },
  "language_info": {
   "codemirror_mode": {
    "name": "ipython",
    "version": 3
   },
   "file_extension": ".py",
   "mimetype": "text/x-python",
   "name": "python",
   "nbconvert_exporter": "python",
   "pygments_lexer": "ipython3",
   "version": "3.12.10"
  }
 },
 "nbformat": 4,
 "nbformat_minor": 5
}
