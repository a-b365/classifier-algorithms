{
 "cells": [
  {
   "cell_type": "code",
   "execution_count": 6,
   "id": "7bcdfc38",
   "metadata": {},
   "outputs": [],
   "source": [
    "# Standard library imports\n",
    "import os\n",
    "\n",
    "# Third party library imports\n",
    "import pandas as pd\n",
    "import numpy as np\n",
    "import matplotlib.pyplot as plt\n"
   ]
  },
  {
   "cell_type": "code",
   "execution_count": 7,
   "id": "3c922dc9",
   "metadata": {},
   "outputs": [],
   "source": [
    "BLINDED_FILE_PATH = \"../datasets/TASK_2/TASK_2/blinded_test_set.csv\"\n",
    "blinded_test_data = pd.read_csv(BLINDED_FILE_PATH)"
   ]
  },
  {
   "cell_type": "code",
   "execution_count": 8,
   "id": "6c580961",
   "metadata": {},
   "outputs": [],
   "source": [
    "# Reading the csv file\n",
    "\n",
    "FILE_PATH = \"../datasets/TASK_2/TASK_2/train_set.csv\"\n",
    "train_data = pd.read_csv(FILE_PATH)"
   ]
  },
  {
   "cell_type": "code",
   "execution_count": 9,
   "id": "b84bded7",
   "metadata": {},
   "outputs": [],
   "source": [
    "TEST_PATH = \"../datasets/TASK_2/TASK_2/test_set.csv\"\n",
    "test_data = pd.read_csv(TEST_PATH)"
   ]
  },
  {
   "cell_type": "code",
   "execution_count": 10,
   "id": "bd1d29c4",
   "metadata": {},
   "outputs": [
    {
     "data": {
      "text/html": [
       "<div>\n",
       "<style scoped>\n",
       "    .dataframe tbody tr th:only-of-type {\n",
       "        vertical-align: middle;\n",
       "    }\n",
       "\n",
       "    .dataframe tbody tr th {\n",
       "        vertical-align: top;\n",
       "    }\n",
       "\n",
       "    .dataframe thead th {\n",
       "        text-align: right;\n",
       "    }\n",
       "</style>\n",
       "<table border=\"1\" class=\"dataframe\">\n",
       "  <thead>\n",
       "    <tr style=\"text-align: right;\">\n",
       "      <th></th>\n",
       "      <th>CLASS</th>\n",
       "      <th>count</th>\n",
       "    </tr>\n",
       "  </thead>\n",
       "  <tbody>\n",
       "    <tr>\n",
       "      <th>0</th>\n",
       "      <td>0</td>\n",
       "      <td>191</td>\n",
       "    </tr>\n",
       "    <tr>\n",
       "      <th>1</th>\n",
       "      <td>1</td>\n",
       "      <td>124</td>\n",
       "    </tr>\n",
       "  </tbody>\n",
       "</table>\n",
       "</div>"
      ],
      "text/plain": [
       "   CLASS  count\n",
       "0      0    191\n",
       "1      1    124"
      ]
     },
     "execution_count": 10,
     "metadata": {},
     "output_type": "execute_result"
    }
   ],
   "source": [
    "train_data['CLASS'].value_counts().reset_index()"
   ]
  },
  {
   "cell_type": "code",
   "execution_count": 11,
   "id": "ea0380ad",
   "metadata": {},
   "outputs": [
    {
     "data": {
      "text/html": [
       "<div>\n",
       "<style scoped>\n",
       "    .dataframe tbody tr th:only-of-type {\n",
       "        vertical-align: middle;\n",
       "    }\n",
       "\n",
       "    .dataframe tbody tr th {\n",
       "        vertical-align: top;\n",
       "    }\n",
       "\n",
       "    .dataframe thead th {\n",
       "        text-align: right;\n",
       "    }\n",
       "</style>\n",
       "<table border=\"1\" class=\"dataframe\">\n",
       "  <thead>\n",
       "    <tr style=\"text-align: right;\">\n",
       "      <th></th>\n",
       "      <th>CLASS</th>\n",
       "      <th>count</th>\n",
       "    </tr>\n",
       "  </thead>\n",
       "  <tbody>\n",
       "    <tr>\n",
       "      <th>0</th>\n",
       "      <td>0</td>\n",
       "      <td>58</td>\n",
       "    </tr>\n",
       "    <tr>\n",
       "      <th>1</th>\n",
       "      <td>1</td>\n",
       "      <td>42</td>\n",
       "    </tr>\n",
       "  </tbody>\n",
       "</table>\n",
       "</div>"
      ],
      "text/plain": [
       "   CLASS  count\n",
       "0      0     58\n",
       "1      1     42"
      ]
     },
     "execution_count": 11,
     "metadata": {},
     "output_type": "execute_result"
    }
   ],
   "source": [
    "test_data['CLASS'].value_counts().reset_index()"
   ]
  },
  {
   "cell_type": "code",
   "execution_count": 12,
   "id": "d6e22f35",
   "metadata": {},
   "outputs": [],
   "source": [
    "X_test = test_data.drop(columns=[\"ID\", \"CLASS\"])\n",
    "y_test = test_data[\"CLASS\"]"
   ]
  },
  {
   "cell_type": "code",
   "execution_count": 13,
   "id": "5a88b2ac",
   "metadata": {},
   "outputs": [],
   "source": [
    "X_train = train_data.drop(columns=[\"ID\", \"CLASS\"])\n",
    "y_train = train_data[\"CLASS\"]"
   ]
  },
  {
   "cell_type": "code",
   "execution_count": 14,
   "id": "8e5ebe68",
   "metadata": {},
   "outputs": [
    {
     "data": {
      "text/plain": [
       "np.int64(0)"
      ]
     },
     "execution_count": 14,
     "metadata": {},
     "output_type": "execute_result"
    }
   ],
   "source": [
    "X_test.duplicated().sum()"
   ]
  },
  {
   "cell_type": "code",
   "execution_count": 15,
   "id": "a6e3802d",
   "metadata": {},
   "outputs": [
    {
     "data": {
      "text/plain": [
       "100"
      ]
     },
     "execution_count": 15,
     "metadata": {},
     "output_type": "execute_result"
    }
   ],
   "source": [
    "len(set(train_data[\"ID\"]).intersection(set(test_data[\"ID\"])))"
   ]
  },
  {
   "cell_type": "code",
   "execution_count": 16,
   "id": "de286b36",
   "metadata": {},
   "outputs": [
    {
     "data": {
      "text/plain": [
       "Index(['Feature_1', 'Feature_2', 'Feature_3', 'Feature_4', 'Feature_5',\n",
       "       'Feature_6', 'Feature_7', 'Feature_8', 'Feature_9', 'Feature_10',\n",
       "       ...\n",
       "       'Feature_3230', 'Feature_3231', 'Feature_3232', 'Feature_3233',\n",
       "       'Feature_3234', 'Feature_3235', 'Feature_3236', 'Feature_3237',\n",
       "       'Feature_3238', 'CLASS'],\n",
       "      dtype='object', length=3239)"
      ]
     },
     "execution_count": 16,
     "metadata": {},
     "output_type": "execute_result"
    }
   ],
   "source": [
    "train_data.select_dtypes(include=['number']).columns"
   ]
  },
  {
   "cell_type": "code",
   "execution_count": 17,
   "id": "0b94d3b7",
   "metadata": {},
   "outputs": [
    {
     "data": {
      "text/plain": [
       "ID               object\n",
       "Feature_1       float64\n",
       "Feature_2       float64\n",
       "Feature_3       float64\n",
       "Feature_4       float64\n",
       "                 ...   \n",
       "Feature_3235    float64\n",
       "Feature_3236    float64\n",
       "Feature_3237    float64\n",
       "Feature_3238    float64\n",
       "CLASS             int64\n",
       "Length: 3240, dtype: object"
      ]
     },
     "execution_count": 17,
     "metadata": {},
     "output_type": "execute_result"
    }
   ],
   "source": [
    "train_data.dtypes"
   ]
  },
  {
   "cell_type": "code",
   "execution_count": 18,
   "id": "cecfff6a",
   "metadata": {},
   "outputs": [
    {
     "name": "stdout",
     "output_type": "stream",
     "text": [
      "Distribution difference is acceptable: 0.053\n"
     ]
    }
   ],
   "source": [
    "train_dist= train_data[\"CLASS\"].value_counts(normalize=True)\n",
    "test_dist = test_data[\"CLASS\"].value_counts(normalize=True)\n",
    "dist_diff = abs(train_dist - test_dist).sum()\n",
    "if dist_diff > 0.1:\n",
    "    print(f\"Warning: There is a large distribution difference: {dist_diff:.3f}\")\n",
    "else:\n",
    "    print(f\"Distribution difference is acceptable: {dist_diff:.3f}\")\n"
   ]
  },
  {
   "cell_type": "code",
   "execution_count": 19,
   "id": "9cbd4e6b",
   "metadata": {},
   "outputs": [
    {
     "data": {
      "text/plain": [
       "np.int64(0)"
      ]
     },
     "execution_count": 19,
     "metadata": {},
     "output_type": "execute_result"
    }
   ],
   "source": [
    "y_train.isna().sum()"
   ]
  },
  {
   "cell_type": "code",
   "execution_count": 20,
   "id": "b3b2e939",
   "metadata": {},
   "outputs": [
    {
     "data": {
      "text/html": [
       "<div>\n",
       "<style scoped>\n",
       "    .dataframe tbody tr th:only-of-type {\n",
       "        vertical-align: middle;\n",
       "    }\n",
       "\n",
       "    .dataframe tbody tr th {\n",
       "        vertical-align: top;\n",
       "    }\n",
       "\n",
       "    .dataframe thead th {\n",
       "        text-align: right;\n",
       "    }\n",
       "</style>\n",
       "<table border=\"1\" class=\"dataframe\">\n",
       "  <thead>\n",
       "    <tr style=\"text-align: right;\">\n",
       "      <th></th>\n",
       "      <th>index</th>\n",
       "      <th>count</th>\n",
       "    </tr>\n",
       "  </thead>\n",
       "  <tbody>\n",
       "    <tr>\n",
       "      <th>0</th>\n",
       "      <td>0</td>\n",
       "      <td>199</td>\n",
       "    </tr>\n",
       "    <tr>\n",
       "      <th>1</th>\n",
       "      <td>23</td>\n",
       "      <td>116</td>\n",
       "    </tr>\n",
       "  </tbody>\n",
       "</table>\n",
       "</div>"
      ],
      "text/plain": [
       "   index  count\n",
       "0      0    199\n",
       "1     23    116"
      ]
     },
     "execution_count": 20,
     "metadata": {},
     "output_type": "execute_result"
    }
   ],
   "source": [
    "missing_per_row = X_train.isnull().sum(axis=1)\n",
    "missing_per_row.value_counts().reset_index()\n"
   ]
  },
  {
   "cell_type": "code",
   "execution_count": 21,
   "id": "5756da1f",
   "metadata": {},
   "outputs": [
    {
     "data": {
      "text/plain": [
       "np.int64(4)"
      ]
     },
     "execution_count": 21,
     "metadata": {},
     "output_type": "execute_result"
    }
   ],
   "source": [
    "import numpy as np\n",
    "\n",
    "# Count infinities\n",
    "np.isinf(X_train.to_numpy()).sum()\n"
   ]
  },
  {
   "cell_type": "code",
   "execution_count": 22,
   "id": "d35fbcdb",
   "metadata": {},
   "outputs": [
    {
     "data": {
      "text/plain": [
       "Feature_72    2\n",
       "Feature_90    2\n",
       "dtype: int64"
      ]
     },
     "execution_count": 22,
     "metadata": {},
     "output_type": "execute_result"
    }
   ],
   "source": [
    "inf_mask = np.isinf(X_train)\n",
    "inf_summary = inf_mask.sum(axis=0)\n",
    "inf_summary[inf_summary > 0]"
   ]
  },
  {
   "cell_type": "code",
   "execution_count": 23,
   "id": "e015a9a8",
   "metadata": {},
   "outputs": [],
   "source": [
    "X_clean = X_train.replace([np.inf, -np.inf], np.nan)"
   ]
  },
  {
   "cell_type": "code",
   "execution_count": 24,
   "id": "92099879",
   "metadata": {},
   "outputs": [],
   "source": [
    "X_test = X_test.replace([np.inf, -np.inf], np.nan)"
   ]
  },
  {
   "cell_type": "code",
   "execution_count": 25,
   "id": "1b9b704a",
   "metadata": {},
   "outputs": [
    {
     "data": {
      "text/html": [
       "<div>\n",
       "<style scoped>\n",
       "    .dataframe tbody tr th:only-of-type {\n",
       "        vertical-align: middle;\n",
       "    }\n",
       "\n",
       "    .dataframe tbody tr th {\n",
       "        vertical-align: top;\n",
       "    }\n",
       "\n",
       "    .dataframe thead th {\n",
       "        text-align: right;\n",
       "    }\n",
       "</style>\n",
       "<table border=\"1\" class=\"dataframe\">\n",
       "  <thead>\n",
       "    <tr style=\"text-align: right;\">\n",
       "      <th></th>\n",
       "      <th>50</th>\n",
       "      <th>count</th>\n",
       "    </tr>\n",
       "  </thead>\n",
       "  <tbody>\n",
       "    <tr>\n",
       "      <th>0</th>\n",
       "      <td>False</td>\n",
       "      <td>3215</td>\n",
       "    </tr>\n",
       "    <tr>\n",
       "      <th>1</th>\n",
       "      <td>True</td>\n",
       "      <td>23</td>\n",
       "    </tr>\n",
       "  </tbody>\n",
       "</table>\n",
       "</div>"
      ],
      "text/plain": [
       "      50  count\n",
       "0  False   3215\n",
       "1   True     23"
      ]
     },
     "execution_count": 25,
     "metadata": {},
     "output_type": "execute_result"
    }
   ],
   "source": [
    "X_train.iloc[50].isnull().value_counts().reset_index()"
   ]
  },
  {
   "cell_type": "code",
   "execution_count": 26,
   "id": "70cb93ac",
   "metadata": {},
   "outputs": [],
   "source": [
    "from sklearn.impute import SimpleImputer, KNNImputer\n",
    "\n",
    "imputer = SimpleImputer(missing_values=np.nan, strategy=\"median\")\n",
    "X_imputed = imputer.fit_transform(X_clean)\n",
    "X_test_simple = imputer.transform(X_test)\n",
    "\n",
    "knn_imputer = KNNImputer(n_neighbors=5)\n",
    "X_imputed_knn = knn_imputer.fit_transform(X_clean)\n",
    "X_test_knn = knn_imputer.transform(X_test)"
   ]
  },
  {
   "cell_type": "code",
   "execution_count": 29,
   "id": "5fbf43d7",
   "metadata": {},
   "outputs": [],
   "source": [
    "from sklearn.preprocessing import StandardScaler, RobustScaler\n",
    "\n",
    "scalar = StandardScaler()\n",
    "X_scaled = scalar.fit_transform(X_imputed_knn)\n",
    "X_test = scalar.transform(X_test_knn)"
   ]
  },
  {
   "cell_type": "code",
   "execution_count": 28,
   "id": "fca4f89b",
   "metadata": {},
   "outputs": [],
   "source": [
    "# scalar.mean_, scalar.var_"
   ]
  },
  {
   "cell_type": "code",
   "execution_count": 30,
   "id": "73ae3c7c",
   "metadata": {},
   "outputs": [
    {
     "data": {
      "text/html": [
       "<div>\n",
       "<style scoped>\n",
       "    .dataframe tbody tr th:only-of-type {\n",
       "        vertical-align: middle;\n",
       "    }\n",
       "\n",
       "    .dataframe tbody tr th {\n",
       "        vertical-align: top;\n",
       "    }\n",
       "\n",
       "    .dataframe thead th {\n",
       "        text-align: right;\n",
       "    }\n",
       "</style>\n",
       "<table border=\"1\" class=\"dataframe\">\n",
       "  <thead>\n",
       "    <tr style=\"text-align: right;\">\n",
       "      <th></th>\n",
       "      <th>Feature_1</th>\n",
       "      <th>Feature_2</th>\n",
       "      <th>Feature_3</th>\n",
       "      <th>Feature_4</th>\n",
       "      <th>Feature_5</th>\n",
       "      <th>Feature_6</th>\n",
       "      <th>Feature_7</th>\n",
       "      <th>Feature_8</th>\n",
       "      <th>Feature_9</th>\n",
       "      <th>Feature_10</th>\n",
       "      <th>...</th>\n",
       "      <th>Feature_3229</th>\n",
       "      <th>Feature_3230</th>\n",
       "      <th>Feature_3231</th>\n",
       "      <th>Feature_3232</th>\n",
       "      <th>Feature_3233</th>\n",
       "      <th>Feature_3234</th>\n",
       "      <th>Feature_3235</th>\n",
       "      <th>Feature_3236</th>\n",
       "      <th>Feature_3237</th>\n",
       "      <th>Feature_3238</th>\n",
       "    </tr>\n",
       "  </thead>\n",
       "  <tbody>\n",
       "    <tr>\n",
       "      <th>0</th>\n",
       "      <td>-0.756859</td>\n",
       "      <td>-0.756281</td>\n",
       "      <td>-0.768458</td>\n",
       "      <td>1.790937</td>\n",
       "      <td>-0.703377</td>\n",
       "      <td>-0.622357</td>\n",
       "      <td>0.757830</td>\n",
       "      <td>-0.722168</td>\n",
       "      <td>0.757830</td>\n",
       "      <td>0.038485</td>\n",
       "      <td>...</td>\n",
       "      <td>-1.903318</td>\n",
       "      <td>-1.903318</td>\n",
       "      <td>-0.795461</td>\n",
       "      <td>0.0</td>\n",
       "      <td>-0.386250</td>\n",
       "      <td>-1.156615</td>\n",
       "      <td>0.0</td>\n",
       "      <td>-0.208265</td>\n",
       "      <td>1.487482</td>\n",
       "      <td>-1.156615</td>\n",
       "    </tr>\n",
       "    <tr>\n",
       "      <th>1</th>\n",
       "      <td>-0.684660</td>\n",
       "      <td>-0.686690</td>\n",
       "      <td>-0.980408</td>\n",
       "      <td>0.279318</td>\n",
       "      <td>0.567037</td>\n",
       "      <td>0.393269</td>\n",
       "      <td>-0.768013</td>\n",
       "      <td>0.617284</td>\n",
       "      <td>-0.768013</td>\n",
       "      <td>-0.059407</td>\n",
       "      <td>...</td>\n",
       "      <td>-0.133632</td>\n",
       "      <td>-0.133632</td>\n",
       "      <td>-0.683039</td>\n",
       "      <td>0.0</td>\n",
       "      <td>-0.309647</td>\n",
       "      <td>-0.493571</td>\n",
       "      <td>0.0</td>\n",
       "      <td>-0.337385</td>\n",
       "      <td>0.542650</td>\n",
       "      <td>-0.493571</td>\n",
       "    </tr>\n",
       "    <tr>\n",
       "      <th>2</th>\n",
       "      <td>-0.381832</td>\n",
       "      <td>-0.380581</td>\n",
       "      <td>-0.235997</td>\n",
       "      <td>0.738313</td>\n",
       "      <td>-0.658969</td>\n",
       "      <td>-0.592319</td>\n",
       "      <td>0.689108</td>\n",
       "      <td>-0.672790</td>\n",
       "      <td>0.689108</td>\n",
       "      <td>-0.062952</td>\n",
       "      <td>...</td>\n",
       "      <td>-0.972867</td>\n",
       "      <td>-0.972867</td>\n",
       "      <td>-0.396858</td>\n",
       "      <td>0.0</td>\n",
       "      <td>-0.308825</td>\n",
       "      <td>-0.995803</td>\n",
       "      <td>0.0</td>\n",
       "      <td>-0.354606</td>\n",
       "      <td>1.137855</td>\n",
       "      <td>-0.995803</td>\n",
       "    </tr>\n",
       "    <tr>\n",
       "      <th>3</th>\n",
       "      <td>0.231255</td>\n",
       "      <td>0.232764</td>\n",
       "      <td>0.851293</td>\n",
       "      <td>0.408853</td>\n",
       "      <td>-1.186714</td>\n",
       "      <td>-0.927422</td>\n",
       "      <td>1.599928</td>\n",
       "      <td>-1.272312</td>\n",
       "      <td>1.599928</td>\n",
       "      <td>-0.063502</td>\n",
       "      <td>...</td>\n",
       "      <td>-0.486524</td>\n",
       "      <td>-0.486524</td>\n",
       "      <td>0.283390</td>\n",
       "      <td>0.0</td>\n",
       "      <td>-0.154057</td>\n",
       "      <td>-0.763600</td>\n",
       "      <td>0.0</td>\n",
       "      <td>-0.374634</td>\n",
       "      <td>0.852824</td>\n",
       "      <td>-0.763600</td>\n",
       "    </tr>\n",
       "    <tr>\n",
       "      <th>4</th>\n",
       "      <td>0.203521</td>\n",
       "      <td>0.203601</td>\n",
       "      <td>0.171085</td>\n",
       "      <td>-0.825213</td>\n",
       "      <td>0.093786</td>\n",
       "      <td>-0.031715</td>\n",
       "      <td>-0.308667</td>\n",
       "      <td>0.138226</td>\n",
       "      <td>-0.308667</td>\n",
       "      <td>-0.058745</td>\n",
       "      <td>...</td>\n",
       "      <td>0.680798</td>\n",
       "      <td>0.680798</td>\n",
       "      <td>0.173152</td>\n",
       "      <td>0.0</td>\n",
       "      <td>0.084921</td>\n",
       "      <td>0.703383</td>\n",
       "      <td>0.0</td>\n",
       "      <td>0.196797</td>\n",
       "      <td>-0.859371</td>\n",
       "      <td>0.703383</td>\n",
       "    </tr>\n",
       "    <tr>\n",
       "      <th>...</th>\n",
       "      <td>...</td>\n",
       "      <td>...</td>\n",
       "      <td>...</td>\n",
       "      <td>...</td>\n",
       "      <td>...</td>\n",
       "      <td>...</td>\n",
       "      <td>...</td>\n",
       "      <td>...</td>\n",
       "      <td>...</td>\n",
       "      <td>...</td>\n",
       "      <td>...</td>\n",
       "      <td>...</td>\n",
       "      <td>...</td>\n",
       "      <td>...</td>\n",
       "      <td>...</td>\n",
       "      <td>...</td>\n",
       "      <td>...</td>\n",
       "      <td>...</td>\n",
       "      <td>...</td>\n",
       "      <td>...</td>\n",
       "      <td>...</td>\n",
       "    </tr>\n",
       "    <tr>\n",
       "      <th>310</th>\n",
       "      <td>0.433827</td>\n",
       "      <td>0.435696</td>\n",
       "      <td>0.886849</td>\n",
       "      <td>-0.217469</td>\n",
       "      <td>-0.847973</td>\n",
       "      <td>-0.717820</td>\n",
       "      <td>0.990873</td>\n",
       "      <td>-0.884254</td>\n",
       "      <td>0.990873</td>\n",
       "      <td>-0.060837</td>\n",
       "      <td>...</td>\n",
       "      <td>0.202267</td>\n",
       "      <td>0.202267</td>\n",
       "      <td>0.498488</td>\n",
       "      <td>0.0</td>\n",
       "      <td>-0.027807</td>\n",
       "      <td>-0.355315</td>\n",
       "      <td>0.0</td>\n",
       "      <td>0.162030</td>\n",
       "      <td>0.397758</td>\n",
       "      <td>-0.355315</td>\n",
       "    </tr>\n",
       "    <tr>\n",
       "      <th>311</th>\n",
       "      <td>-1.168752</td>\n",
       "      <td>-1.170949</td>\n",
       "      <td>-1.748648</td>\n",
       "      <td>1.717631</td>\n",
       "      <td>1.244825</td>\n",
       "      <td>1.018591</td>\n",
       "      <td>-1.401877</td>\n",
       "      <td>1.297774</td>\n",
       "      <td>-1.401877</td>\n",
       "      <td>-0.060507</td>\n",
       "      <td>...</td>\n",
       "      <td>-1.901386</td>\n",
       "      <td>-1.901386</td>\n",
       "      <td>-1.207844</td>\n",
       "      <td>0.0</td>\n",
       "      <td>-0.440121</td>\n",
       "      <td>-0.957524</td>\n",
       "      <td>0.0</td>\n",
       "      <td>0.652483</td>\n",
       "      <td>1.190021</td>\n",
       "      <td>-0.957524</td>\n",
       "    </tr>\n",
       "    <tr>\n",
       "      <th>312</th>\n",
       "      <td>0.035969</td>\n",
       "      <td>0.035381</td>\n",
       "      <td>0.101320</td>\n",
       "      <td>-0.395710</td>\n",
       "      <td>-0.196988</td>\n",
       "      <td>-0.259780</td>\n",
       "      <td>0.043164</td>\n",
       "      <td>-0.169541</td>\n",
       "      <td>0.043164</td>\n",
       "      <td>-0.058273</td>\n",
       "      <td>...</td>\n",
       "      <td>0.271247</td>\n",
       "      <td>0.271247</td>\n",
       "      <td>0.120722</td>\n",
       "      <td>0.0</td>\n",
       "      <td>-0.091668</td>\n",
       "      <td>-0.222419</td>\n",
       "      <td>0.0</td>\n",
       "      <td>-0.963045</td>\n",
       "      <td>0.088390</td>\n",
       "      <td>-0.222419</td>\n",
       "    </tr>\n",
       "    <tr>\n",
       "      <th>313</th>\n",
       "      <td>-0.472817</td>\n",
       "      <td>-0.471784</td>\n",
       "      <td>-0.331835</td>\n",
       "      <td>1.032608</td>\n",
       "      <td>-0.739118</td>\n",
       "      <td>-0.646287</td>\n",
       "      <td>0.814087</td>\n",
       "      <td>-0.762044</td>\n",
       "      <td>0.814087</td>\n",
       "      <td>-0.061786</td>\n",
       "      <td>...</td>\n",
       "      <td>-1.381913</td>\n",
       "      <td>-1.381913</td>\n",
       "      <td>-0.550115</td>\n",
       "      <td>0.0</td>\n",
       "      <td>-0.323534</td>\n",
       "      <td>-0.894995</td>\n",
       "      <td>0.0</td>\n",
       "      <td>0.392094</td>\n",
       "      <td>1.023034</td>\n",
       "      <td>-0.894995</td>\n",
       "    </tr>\n",
       "    <tr>\n",
       "      <th>314</th>\n",
       "      <td>0.690171</td>\n",
       "      <td>0.691657</td>\n",
       "      <td>1.219785</td>\n",
       "      <td>-0.402856</td>\n",
       "      <td>-0.902918</td>\n",
       "      <td>-0.753154</td>\n",
       "      <td>1.083367</td>\n",
       "      <td>-0.946384</td>\n",
       "      <td>1.083367</td>\n",
       "      <td>-0.058583</td>\n",
       "      <td>...</td>\n",
       "      <td>0.538947</td>\n",
       "      <td>0.538947</td>\n",
       "      <td>0.687035</td>\n",
       "      <td>0.0</td>\n",
       "      <td>0.134792</td>\n",
       "      <td>0.163421</td>\n",
       "      <td>0.0</td>\n",
       "      <td>0.689963</td>\n",
       "      <td>-0.104044</td>\n",
       "      <td>0.163421</td>\n",
       "    </tr>\n",
       "  </tbody>\n",
       "</table>\n",
       "<p>315 rows × 3238 columns</p>\n",
       "</div>"
      ],
      "text/plain": [
       "     Feature_1  Feature_2  Feature_3  Feature_4  Feature_5  Feature_6  \\\n",
       "0    -0.756859  -0.756281  -0.768458   1.790937  -0.703377  -0.622357   \n",
       "1    -0.684660  -0.686690  -0.980408   0.279318   0.567037   0.393269   \n",
       "2    -0.381832  -0.380581  -0.235997   0.738313  -0.658969  -0.592319   \n",
       "3     0.231255   0.232764   0.851293   0.408853  -1.186714  -0.927422   \n",
       "4     0.203521   0.203601   0.171085  -0.825213   0.093786  -0.031715   \n",
       "..         ...        ...        ...        ...        ...        ...   \n",
       "310   0.433827   0.435696   0.886849  -0.217469  -0.847973  -0.717820   \n",
       "311  -1.168752  -1.170949  -1.748648   1.717631   1.244825   1.018591   \n",
       "312   0.035969   0.035381   0.101320  -0.395710  -0.196988  -0.259780   \n",
       "313  -0.472817  -0.471784  -0.331835   1.032608  -0.739118  -0.646287   \n",
       "314   0.690171   0.691657   1.219785  -0.402856  -0.902918  -0.753154   \n",
       "\n",
       "     Feature_7  Feature_8  Feature_9  Feature_10  ...  Feature_3229  \\\n",
       "0     0.757830  -0.722168   0.757830    0.038485  ...     -1.903318   \n",
       "1    -0.768013   0.617284  -0.768013   -0.059407  ...     -0.133632   \n",
       "2     0.689108  -0.672790   0.689108   -0.062952  ...     -0.972867   \n",
       "3     1.599928  -1.272312   1.599928   -0.063502  ...     -0.486524   \n",
       "4    -0.308667   0.138226  -0.308667   -0.058745  ...      0.680798   \n",
       "..         ...        ...        ...         ...  ...           ...   \n",
       "310   0.990873  -0.884254   0.990873   -0.060837  ...      0.202267   \n",
       "311  -1.401877   1.297774  -1.401877   -0.060507  ...     -1.901386   \n",
       "312   0.043164  -0.169541   0.043164   -0.058273  ...      0.271247   \n",
       "313   0.814087  -0.762044   0.814087   -0.061786  ...     -1.381913   \n",
       "314   1.083367  -0.946384   1.083367   -0.058583  ...      0.538947   \n",
       "\n",
       "     Feature_3230  Feature_3231  Feature_3232  Feature_3233  Feature_3234  \\\n",
       "0       -1.903318     -0.795461           0.0     -0.386250     -1.156615   \n",
       "1       -0.133632     -0.683039           0.0     -0.309647     -0.493571   \n",
       "2       -0.972867     -0.396858           0.0     -0.308825     -0.995803   \n",
       "3       -0.486524      0.283390           0.0     -0.154057     -0.763600   \n",
       "4        0.680798      0.173152           0.0      0.084921      0.703383   \n",
       "..            ...           ...           ...           ...           ...   \n",
       "310      0.202267      0.498488           0.0     -0.027807     -0.355315   \n",
       "311     -1.901386     -1.207844           0.0     -0.440121     -0.957524   \n",
       "312      0.271247      0.120722           0.0     -0.091668     -0.222419   \n",
       "313     -1.381913     -0.550115           0.0     -0.323534     -0.894995   \n",
       "314      0.538947      0.687035           0.0      0.134792      0.163421   \n",
       "\n",
       "     Feature_3235  Feature_3236  Feature_3237  Feature_3238  \n",
       "0             0.0     -0.208265      1.487482     -1.156615  \n",
       "1             0.0     -0.337385      0.542650     -0.493571  \n",
       "2             0.0     -0.354606      1.137855     -0.995803  \n",
       "3             0.0     -0.374634      0.852824     -0.763600  \n",
       "4             0.0      0.196797     -0.859371      0.703383  \n",
       "..            ...           ...           ...           ...  \n",
       "310           0.0      0.162030      0.397758     -0.355315  \n",
       "311           0.0      0.652483      1.190021     -0.957524  \n",
       "312           0.0     -0.963045      0.088390     -0.222419  \n",
       "313           0.0      0.392094      1.023034     -0.894995  \n",
       "314           0.0      0.689963     -0.104044      0.163421  \n",
       "\n",
       "[315 rows x 3238 columns]"
      ]
     },
     "execution_count": 30,
     "metadata": {},
     "output_type": "execute_result"
    }
   ],
   "source": [
    "X_scaled_df = pd.DataFrame(X_scaled, columns=X_train.columns)\n",
    "X_test = pd.DataFrame(X_test, columns=X_train.columns)\n",
    "X_scaled_df\n"
   ]
  },
  {
   "cell_type": "code",
   "execution_count": 31,
   "id": "b2d2ec4e",
   "metadata": {},
   "outputs": [],
   "source": [
    "feature_columns = X_train.columns"
   ]
  },
  {
   "cell_type": "code",
   "execution_count": 26,
   "id": "64c67772",
   "metadata": {},
   "outputs": [
    {
     "name": "stdout",
     "output_type": "stream",
     "text": [
      "Reduced from 3238 to 3092 features\n"
     ]
    }
   ],
   "source": [
    "from sklearn.feature_selection import VarianceThreshold\n",
    "\n",
    "selector = VarianceThreshold(threshold=0.01)\n",
    "X_var = selector.fit_transform(X_scaled_df)\n",
    "X_test = selector.transform(X_test)\n",
    "\n",
    "\n",
    "print(f\"Reduced from {X_scaled_df.shape[1]} to {X_var.shape[1]} features\")\n",
    "\n",
    "selected_mask = selector.get_support()\n",
    "\n",
    "selected_features = [feature_columns[i] for i in range(len(selected_mask)) if selected_mask[i]]"
   ]
  },
  {
   "cell_type": "code",
   "execution_count": 27,
   "id": "8fd6a5fa",
   "metadata": {},
   "outputs": [],
   "source": [
    "from sklearn.feature_selection import SelectKBest, f_classif\n",
    "\n",
    "selector = SelectKBest(score_func=f_classif, k=100)  # Try k=100 to start\n",
    "\n",
    "X_kbest = selector.fit_transform(X_var, y_train)\n",
    "X_test = selector.transform(X_test)\n",
    "\n",
    "# You can also get the selected column names if needed\n",
    "selected_mask = selector.get_support()\n",
    "\n",
    "selected_k_features = [selected_features[i] for i in range(len(selected_mask)) if selected_mask[i]]"
   ]
  },
  {
   "cell_type": "code",
   "execution_count": null,
   "id": "bf41d014",
   "metadata": {},
   "outputs": [],
   "source": [
    "from sklearn.ensemble import RandomForestClassifier\n",
    "from sklearn.feature_selection import RFE\n",
    "\n",
    "estimator = RandomForestClassifier(n_estimators=30, random_state=42)\n",
    "feature_selector = RFE(estimator=estimator, n_features_to_select=10)\n",
    "X_kbest = feature_selector.fit_transform(X_scaled_df, y_train)  # y = your target column (CLASS)\n",
    "X_test = feature_selector.transform(X_test)\n",
    "\n",
    "selected_mask = feature_selector.get_support()\n",
    "selected_rfe_features = [feature_columns[i] for i in range(len(selected_mask)) if selected_mask[i]]"
   ]
  },
  {
   "cell_type": "code",
   "execution_count": 26,
   "id": "f5579810",
   "metadata": {},
   "outputs": [],
   "source": [
    "from sklearn.feature_selection import SelectFromModel\n",
    "from sklearn.ensemble import RandomForestClassifier\n",
    "\n",
    "\n",
    "estimator = RandomForestClassifier(n_estimators=50, random_state=42)\n",
    "selector = SelectFromModel(estimator, max_features=100)\n",
    "\n",
    "X_kbest = selector.fit_transform(X_scaled_df, y_train)  # y = your target column (CLASS)\n",
    "X_test = selector.transform(X_test)\n",
    "\n",
    "selected_mask = selector.get_support()\n",
    "selected_rfe_features = [feature_columns[i] for i in range(len(selected_mask)) if selected_mask[i]]\n",
    "\n"
   ]
  },
  {
   "cell_type": "code",
   "execution_count": 28,
   "id": "32570687",
   "metadata": {},
   "outputs": [],
   "source": [
    "X_kbest_df = pd.DataFrame(X_kbest, columns=selected_k_features)\n",
    "X_test = pd.DataFrame(X_test, columns=selected_k_features)"
   ]
  },
  {
   "cell_type": "code",
   "execution_count": null,
   "id": "811491dd",
   "metadata": {},
   "outputs": [],
   "source": [
    "from sklearn.linear_model import LogisticRegression\n",
    "from sklearn.ensemble import RandomForestClassifier, GradientBoostingClassifier\n",
    "from sklearn.tree import DecisionTreeClassifier\n",
    "from sklearn.svm import SVC\n",
    "\n",
    "models_config = {\n",
    "\n",
    "    'Logistic Regression': {\n",
    "\n",
    "        'model': LogisticRegression(random_state=42, max_iter=2000),\n",
    "        'params': {\n",
    "            'C': [0.001, 0.01, 0.1, 1, 5, 10, 50, 100],\n",
    "            'penalty': ['l1', 'l2'],\n",
    "            'solver': ['liblinear', 'saga']\n",
    "        }\n",
    "    },\n",
    "\n",
    "    'Random Forest': {\n",
    "\n",
    "        'model': RandomForestClassifier(random_state=42, n_estimators=100),\n",
    "        'params':{\n",
    "            'n_estimators': [100, 200, 300],\n",
    "            'max_depth': [None, 5, 10, 15, 20],\n",
    "            'min_samples_split': [2, 5, 10, 20],\n",
    "            'min_samples_leaf': [1, 2, 4, 8],\n",
    "            'max_features': ['sqrt', 'log2', 0.3, 0.5]\n",
    "        }\n",
    "    },\n",
    "\n",
    "    'Gradient Boosting': {\n",
    "\n",
    "        'model': DecisionTreeClassifier(random_state=42),\n",
    "        'params': {\n",
    "            'n_estimators': [100, 200],\n",
    "            'learning_rate': [0.01, 0.1, 0.2],\n",
    "            'max_depth': [3, 5, 7],\n",
    "            'subsample': [0.8, 0.9, 1.0],\n",
    "            'min_samples_split': [2, 5, 10]\n",
    "        }\n",
    "\n",
    "    }\n",
    "\n",
    "}"
   ]
  },
  {
   "cell_type": "code",
   "execution_count": 32,
   "id": "f256b59f",
   "metadata": {},
   "outputs": [],
   "source": [
    "lr_params = models_config[\"Logistic Regression\"][\"params\"]\n",
    "param_combinations = []\n",
    "\n",
    "for C in lr_params[\"C\"]:\n",
    "    for penalty in lr_params[\"penalty\"]:\n",
    "        for solver in lr_params[\"solver\"]:\n",
    "            if penalty == \"elasticnet\" and solver != \"saga\":\n",
    "                for l1_ratio in lr_params[\"l1_ratio\"]:\n",
    "                    param_combinations.append({\n",
    "                        'C': C,\n",
    "                        'penalty': penalty,\n",
    "                        'solver': solver,\n",
    "                        'l1_ratio': l1_ratio\n",
    "                    })\n",
    "            elif penalty != \"elasticnet\":\n",
    "                if (penalty == \"l1\" and solver in [\"liblinear\", \"saga\"]) or (penalty == \"l2\" and solver in [\"liblinear\", \"saga\"]):\n",
    "                    param_combinations.append({\n",
    "                        'C': C,\n",
    "                        'penalty': penalty,\n",
    "                        'solver': solver\n",
    "                    })\n",
    "\n",
    "models_config[\"Logistic Regression\"][\"params\"] = param_combinations"
   ]
  },
  {
   "cell_type": "code",
   "execution_count": 30,
   "id": "30c97ca2",
   "metadata": {},
   "outputs": [
    {
     "data": {
      "text/plain": [
       "{'Logistic Regression': {'model': LogisticRegression(max_iter=2000, random_state=42),\n",
       "  'params': {'C': [0.001, 0.01, 0.1, 1, 5, 10, 50, 100],\n",
       "   'penalty': ['l1', 'l2'],\n",
       "   'solver': ['liblinear', 'saga']}},\n",
       " 'Random Forest': {'model': RandomForestClassifier(random_state=42),\n",
       "  'params': {'n_estimators': [100, 200, 300],\n",
       "   'max_depth': [None, 5, 10, 15, 20],\n",
       "   'min_samples_split': [2, 5, 10, 20],\n",
       "   'min_samples_leaf': [1, 2, 4, 8],\n",
       "   'max_features': ['sqrt', 'log2', 0.3, 0.5]}},\n",
       " 'Gradient Boosting': {'model': GradientBoostingClassifier(random_state=42),\n",
       "  'params': {'n_estimators': [100, 200],\n",
       "   'learning_rate': [0.01, 0.1, 0.2],\n",
       "   'max_depth': [3, 5, 7],\n",
       "   'subsample': [0.8, 0.9, 1.0],\n",
       "   'min_samples_split': [2, 5, 10]}}}"
      ]
     },
     "execution_count": 30,
     "metadata": {},
     "output_type": "execute_result"
    }
   ],
   "source": [
    "models_config"
   ]
  },
  {
   "cell_type": "code",
   "execution_count": null,
   "id": "48ee6124",
   "metadata": {},
   "outputs": [
    {
     "name": "stdout",
     "output_type": "stream",
     "text": [
      "Training Logistic Regression...\n"
     ]
    },
    {
     "name": "stdout",
     "output_type": "stream",
     "text": [
      "Best CV Score: 0.6635\n",
      "Best Parameters: {'C': 0.01, 'penalty': 'l2', 'solver': 'saga'}\n",
      "Training Random Forest...\n",
      "Best CV Score: 0.6444\n",
      "Best Parameters: {'max_depth': None, 'max_features': 'log2', 'min_samples_leaf': 4, 'min_samples_split': 10, 'n_estimators': 200}\n",
      "Training Gradient Boosting...\n",
      "Best CV Score: 0.6317\n",
      "Best Parameters: {'learning_rate': 0.2, 'max_depth': 7, 'min_samples_split': 2, 'n_estimators': 100, 'subsample': 0.8}\n"
     ]
    }
   ],
   "source": [
    "from sklearn.model_selection import StratifiedKFold, GridSearchCV, cross_val_score\n",
    "\n",
    "cv = StratifiedKFold(n_splits=5, shuffle=True, random_state=42)\n",
    "\n",
    "models = dict()\n",
    "\n",
    "for name, config in models_config.items():\n",
    "    print(f\"Training {name}...\")\n",
    "\n",
    "    # if name == \"Logistic Regression\":\n",
    "    #     best_score = 0\n",
    "    #     best_params = None\n",
    "    #     best_model = None\n",
    "    #     for params in config['params'][:50]:\n",
    "    #         model = LogisticRegression(random_state=42, max_iter=5000, class_weight=\"balanced\", **params)\n",
    "    #         try:\n",
    "    #             scores = cross_val_score(model, X_kbest_df, y_train, cv=cv, scoring=\"accuracy\")\n",
    "    #             avg_score = np.mean(scores)\n",
    "    #             if avg_score > best_score:\n",
    "    #                 best_score = avg_score\n",
    "    #                 best_params = params\n",
    "    #                 best_model = model\n",
    "    #         except:\n",
    "    #             continue\n",
    "    #     if best_model:\n",
    "    #         best_model.fit(X_kbest_df, y_train)\n",
    "    #         models[name] = {\n",
    "\n",
    "    #             'model': best_model,\n",
    "    #             'best_params': best_params,\n",
    "    #             'cv_score': best_score\n",
    "\n",
    "    #         }\n",
    "\n",
    "    # else:\n",
    "\n",
    "    grid_search = GridSearchCV(estimator=config['model'], param_grid=config['params'], cv=cv, n_jobs=-1, scoring='accuracy', verbose=0)\n",
    "    grid_search.fit(X_kbest_df, y_train)\n",
    "    models[name] = {\n",
    "            'model': grid_search.best_estimator_,\n",
    "            'best_params': grid_search.best_params_,\n",
    "            'cv_score': grid_search.best_score_\n",
    "        }   \n",
    "\n",
    "    if name in models: \n",
    "        print(f\"Best CV Score: {models[name][\"cv_score\"]:.4f}\")\n",
    "        print(f\"Best Parameters: {models[name][\"best_params\"]}\")"
   ]
  },
  {
   "cell_type": "code",
   "execution_count": 34,
   "id": "5e2cafb1",
   "metadata": {},
   "outputs": [
    {
     "name": "stdout",
     "output_type": "stream",
     "text": [
      "\n",
      "Logistic Regression:\n",
      "Test Accuracy: 0.6100\n",
      "CV Score: 0.6635\n",
      "\n",
      "Classification Report:\n",
      "              precision    recall  f1-score   support\n",
      "\n",
      "           0       0.62      0.84      0.72        58\n",
      "           1       0.57      0.29      0.38        42\n",
      "\n",
      "    accuracy                           0.61       100\n",
      "   macro avg       0.60      0.57      0.55       100\n",
      "weighted avg       0.60      0.61      0.57       100\n",
      "\n",
      "\n",
      "Random Forest:\n",
      "Test Accuracy: 0.5800\n",
      "CV Score: 0.6444\n",
      "\n",
      "Classification Report:\n",
      "              precision    recall  f1-score   support\n",
      "\n",
      "           0       0.60      0.81      0.69        58\n",
      "           1       0.50      0.26      0.34        42\n",
      "\n",
      "    accuracy                           0.58       100\n",
      "   macro avg       0.55      0.54      0.52       100\n",
      "weighted avg       0.56      0.58      0.55       100\n",
      "\n",
      "\n",
      "Gradient Boosting:\n",
      "Test Accuracy: 0.5700\n",
      "CV Score: 0.6317\n",
      "\n",
      "Classification Report:\n",
      "              precision    recall  f1-score   support\n",
      "\n",
      "           0       0.62      0.69      0.65        58\n",
      "           1       0.49      0.40      0.44        42\n",
      "\n",
      "    accuracy                           0.57       100\n",
      "   macro avg       0.55      0.55      0.55       100\n",
      "weighted avg       0.56      0.57      0.56       100\n",
      "\n"
     ]
    }
   ],
   "source": [
    "from sklearn.metrics import accuracy_score\n",
    "from sklearn.metrics import classification_report, confusion_matrix\n",
    "\n",
    "results = {}\n",
    "\n",
    "for name, model_info in models.items():\n",
    "    model = model_info['model']\n",
    "\n",
    "    y_pred = model.predict(X_test)\n",
    "    y_pred_proba = model.predict_proba(X_test)[:, 1] if hasattr(model, 'predict_proba') else None\n",
    "\n",
    "    accuracy = accuracy_score(y_test, y_pred)\n",
    "\n",
    "    results[name] = {\n",
    "\n",
    "        'accuracy': accuracy,\n",
    "        'cv_score': model_info['cv_score'],\n",
    "        'predictions': y_pred,\n",
    "        'probabilities': y_pred_proba\n",
    "    }\n",
    "\n",
    "    print(f\"\\n{name}:\")\n",
    "    print(f\"Test Accuracy: {accuracy:.4f}\")\n",
    "    print(f\"CV Score: {model_info['cv_score']:.4f}\")\n",
    "    print(\"\\nClassification Report:\")\n",
    "    print(classification_report(y_test, y_pred))\n",
    "    \n"
   ]
  },
  {
   "cell_type": "code",
   "execution_count": null,
   "id": "5e53433b",
   "metadata": {},
   "outputs": [
    {
     "name": "stdout",
     "output_type": "stream",
     "text": [
      "[[191   0]\n",
      " [  0 124]]\n",
      "              precision    recall  f1-score   support\n",
      "\n",
      "           0       1.00      1.00      1.00       191\n",
      "           1       1.00      1.00      1.00       124\n",
      "\n",
      "    accuracy                           1.00       315\n",
      "   macro avg       1.00      1.00      1.00       315\n",
      "weighted avg       1.00      1.00      1.00       315\n",
      "\n"
     ]
    }
   ],
   "source": [
    "from sklearn.ensemble import RandomForestClassifier\n",
    "\n",
    "clf_rf = RandomForestClassifier(n_estimators=100, random_state=42, max_depth= None, min_samples_leaf= 1, min_samples_split= 2)\n",
    "clf_rf.fit(X_kbest_df, y_train)\n",
    "\n",
    "y_pred_rf = clf_rf.predict(X_kbest_df)\n",
    "print(confusion_matrix(y_train, y_pred_rf))\n",
    "print(classification_report(y_train, y_pred_rf))\n"
   ]
  },
  {
   "cell_type": "code",
   "execution_count": 39,
   "id": "9bb9c72a",
   "metadata": {},
   "outputs": [
    {
     "name": "stdout",
     "output_type": "stream",
     "text": [
      "Feature distributions look stable (0 potential drift)\n"
     ]
    }
   ],
   "source": [
    "# Check feature distributions\n",
    "\n",
    "feature_drift_count = 0\n",
    "\n",
    "for col in selected_k_features:\n",
    "    train_mean = X_kbest_df[col].mean()\n",
    "    test_mean = X_test[col].mean()\n",
    "    train_std = X_kbest_df[col].std()\n",
    "\n",
    "    if train_std > 0:\n",
    "        z_score = (train_mean - test_mean) / train_std\n",
    "        if z_score > 2:\n",
    "            feature_drift_count += 1\n",
    "\n",
    "if feature_drift_count > len(selected_k_features) * 0.2:\n",
    "    print(f\"Warning: {feature_drift_count} features show significant distribution drift\")\n",
    "else:\n",
    "    print(f\"Feature distributions look stable ({feature_drift_count} potential drift)\")"
   ]
  },
  {
   "cell_type": "code",
   "execution_count": 36,
   "id": "1f393b37",
   "metadata": {},
   "outputs": [
    {
     "name": "stdout",
     "output_type": "stream",
     "text": [
      "Logistic Regression: Train Accuracy: 0.654, Test Accuracy: 0.610, Overfitting: 0.044\n",
      "Random Forest: Train Accuracy: 1.000, Test Accuracy: 0.560, Overfitting: 0.440\n",
      "Potential overfitting detected for Random Forest model\n",
      "SVM: Train Accuracy: 0.698, Test Accuracy: 0.620, Overfitting: 0.078\n"
     ]
    }
   ],
   "source": [
    "# Check for overfitting\n",
    "\n",
    "for name, model_info in models.items():\n",
    "    model = model_info['model']\n",
    "    train_pred = model.predict(X_kbest_df)\n",
    "    train_acc = accuracy_score(y_train, train_pred)\n",
    "\n",
    "    test_pred = model.predict(X_test)\n",
    "    test_acc = accuracy_score(y_test, test_pred)\n",
    "\n",
    "    overfitting = abs(train_acc - test_acc)\n",
    "    print(f\"{name}: Train Accuracy: {train_acc:.3f}, Test Accuracy: {test_acc:.3f}, Overfitting: {overfitting:.3f}\")\n",
    "\n",
    "    if overfitting > 0.1:\n",
    "        print(f\"Potential overfitting detected for {name} model\")"
   ]
  },
  {
   "cell_type": "code",
   "execution_count": 39,
   "id": "bcfae100",
   "metadata": {},
   "outputs": [],
   "source": [
    "from sklearn.model_selection import KFold, cross_val_score, StratifiedKFold\n",
    "from sklearn.tree import DecisionTreeClassifier\n",
    "\n",
    "clf = DecisionTreeClassifier(random_state=42)\n",
    "kf = StratifiedKFold(n_splits=10, shuffle=True, random_state=42)\n",
    "scores = cross_val_score(clf, X_kbest_df, y_train, cv=kf, scoring=\"accuracy\")\n",
    "\n"
   ]
  },
  {
   "cell_type": "code",
   "execution_count": null,
   "id": "58220fca",
   "metadata": {},
   "outputs": [],
   "source": []
  }
 ],
 "metadata": {
  "kernelspec": {
   "display_name": ".venv",
   "language": "python",
   "name": "python3"
  },
  "language_info": {
   "codemirror_mode": {
    "name": "ipython",
    "version": 3
   },
   "file_extension": ".py",
   "mimetype": "text/x-python",
   "name": "python",
   "nbconvert_exporter": "python",
   "pygments_lexer": "ipython3",
   "version": "3.12.10"
  }
 },
 "nbformat": 4,
 "nbformat_minor": 5
}
